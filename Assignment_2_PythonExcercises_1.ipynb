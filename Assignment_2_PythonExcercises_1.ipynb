{
  "nbformat": 4,
  "nbformat_minor": 0,
  "metadata": {
    "colab": {
      "provenance": [],
      "authorship_tag": "ABX9TyPPqo100CNbJH7IZsHOgzVc",
      "include_colab_link": true
    },
    "kernelspec": {
      "name": "python3",
      "display_name": "Python 3"
    },
    "language_info": {
      "name": "python"
    }
  },
  "cells": [
    {
      "cell_type": "markdown",
      "metadata": {
        "id": "view-in-github",
        "colab_type": "text"
      },
      "source": [
        "<a href=\"https://colab.research.google.com/github/ingridmtz02/IA_FIME_AGODIC/blob/main/Assignment_2_PythonExcercises_1.ipynb\" target=\"_parent\"><img src=\"https://colab.research.google.com/assets/colab-badge.svg\" alt=\"Open In Colab\"/></a>"
      ]
    },
    {
      "cell_type": "markdown",
      "source": [
        "# HANGMAN GAME\n",
        "* Randomly select a word from a predefined list\n",
        "* The player must guess letters one at a time\n",
        "* Plays until they guess the word correctly or run out of attempts."
      ],
      "metadata": {
        "id": "Xuqi1O9Ve8Ja"
      }
    },
    {
      "cell_type": "code",
      "source": [
        "#Ingrid Edith Martínez Andrade 1995361\n",
        "import random\n",
        "import re\n",
        "print(\"Welcome to the Hangman Game\")"
      ],
      "metadata": {
        "colab": {
          "base_uri": "https://localhost:8080/"
        },
        "id": "Y5d9eZZTe75h",
        "outputId": "bebe777c-0edb-4722-e86b-b52fbc1784c5"
      },
      "execution_count": 94,
      "outputs": [
        {
          "output_type": "stream",
          "name": "stdout",
          "text": [
            "Welcome to the Hangman Game\n"
          ]
        }
      ]
    },
    {
      "cell_type": "code",
      "source": [
        "#lista de palabras\n",
        "wordsList = [\n",
        "    \"star\", #1\n",
        "    \"moon\",\n",
        "    \"meteorict\",\n",
        "    \"sun\",\n",
        "    \"galaxy\",#5\n",
        "    \"planet\",\n",
        "    \"asteroid\",\n",
        "    \"comet\",\n",
        "    \"nebula\",\n",
        "    \"black_hole\", #10\n",
        "    \"supernova\",\n",
        "    \"meteorite\",\n",
        "    \"satellite\",\n",
        "    \"orbit\",\n",
        "    \"constellation\", #15\n",
        "    \"eclipse\",\n",
        "    \"lunar\",\n",
        "    \"universe\",\n",
        "    \"cosmos\",\n",
        "    \"exoplanet\",#20\n",
        "]"
      ],
      "metadata": {
        "id": "qG59aeKTfDus"
      },
      "execution_count": 95,
      "outputs": []
    },
    {
      "cell_type": "code",
      "source": [
        "# random selection of a word\n",
        "randomNumber = random.randint(0, len(wordsList) - 1)  # Corregir el rango de números aleatorios\n",
        "palabra = wordsList[randomNumber].lower()\n",
        "intentos_restantes = 6  # Número de intentos permitidos\n",
        "longitud_palabra = len(palabra)"
      ],
      "metadata": {
        "id": "7P8KcgKgqMeH"
      },
      "execution_count": 90,
      "outputs": []
    },
    {
      "cell_type": "code",
      "source": [
        "#clue\n",
        "pista = ['-' if char != ' ' else '_' for char in palabra]\n",
        "print(f\"\\nThe characters of the word are (consider that spaces are represented as _):\")\n",
        "print(\" \".join(pista))\n",
        "# print(palabra)"
      ],
      "metadata": {
        "id": "g8_FqEwnq8Bi",
        "colab": {
          "base_uri": "https://localhost:8080/"
        },
        "outputId": "0dee8be3-114f-41ce-d7f1-3ab63cfa1392"
      },
      "execution_count": 96,
      "outputs": [
        {
          "output_type": "stream",
          "name": "stdout",
          "text": [
            "\n",
            "The characters of the word are (consider that spaces are represented as _):\n",
            "- - - - -\n",
            "orbit\n"
          ]
        }
      ]
    },
    {
      "cell_type": "code",
      "source": [
        "\n",
        "# Main game loop\n",
        "while intentos_restantes > 0 and '-' in pista:\n",
        "    letraIngresada = input(\"\\nPlease, enter a letter for guessing: \").lower()  # Input letter and convert to lowercase\n",
        "\n",
        "    # Validate input: ensure it is a single valid letter\n",
        "    if len(letraIngresada) != 1 or not letraIngresada.isalpha():\n",
        "        print(\"Enter only a valid letter.\")\n",
        "        continue  # Skip the rest of the loop if input is invalid\n",
        "\n",
        "    # Check if the guessed letter is in the word\n",
        "    if letraIngresada in palabra:\n",
        "        print(f\"Good job! The letter '{letraIngresada}' is in the word.\")\n",
        "        # Update the clue with the correctly guessed letter\n",
        "        for i, letra in enumerate(palabra):\n",
        "            if letra == letraIngresada:\n",
        "                pista[i] = letraIngresada  # Changed clue update to replace dashes with correct letters\n",
        "    else:\n",
        "        # Decrease the remaining attempts if the letter is not in the word\n",
        "        intentos_restantes -= 1\n",
        "        print(f\"The letter '{letraIngresada}' is not in the word. You have {intentos_restantes} attempts left.\")\n",
        "\n",
        "    # Display the current progress of the clue\n",
        "    print(\"Progress: \" + \" \".join(pista))"
      ],
      "metadata": {
        "id": "5qrW9laSzlpR",
        "colab": {
          "base_uri": "https://localhost:8080/"
        },
        "outputId": "6209a598-ae5d-4044-ea51-bb701f5acaa7"
      },
      "execution_count": 97,
      "outputs": [
        {
          "output_type": "stream",
          "name": "stdout",
          "text": [
            "\n",
            "Please, enter a letter for guessing: O\n",
            "Good job! The letter 'o' is in the word.\n",
            "Progress: o - - - -\n",
            "\n",
            "Please, enter a letter for guessing: R\n",
            "Good job! The letter 'r' is in the word.\n",
            "Progress: o r - - -\n",
            "\n",
            "Please, enter a letter for guessing: U\n",
            "The letter 'u' is not in the word. You have 5 attempts left.\n",
            "Progress: o r - - -\n",
            "\n",
            "Please, enter a letter for guessing: B\n",
            "Good job! The letter 'b' is in the word.\n",
            "Progress: o r b - -\n",
            "\n",
            "Please, enter a letter for guessing: I\n",
            "Good job! The letter 'i' is in the word.\n",
            "Progress: o r b i -\n",
            "\n",
            "Please, enter a letter for guessing: T\n",
            "Good job! The letter 't' is in the word.\n",
            "Progress: o r b i t\n"
          ]
        }
      ]
    },
    {
      "cell_type": "code",
      "source": [
        "# Final result check\n",
        "if '-' not in pista:\n",
        "    print(\"\\nCongratulations! You've guessed the word correctly:\", palabra)\n",
        "else:\n",
        "    print(\"\\nSorry, you've run out of attempts. The word was:\", palabra)"
      ],
      "metadata": {
        "colab": {
          "base_uri": "https://localhost:8080/"
        },
        "id": "TJHpDSaA4Am8",
        "outputId": "e1b3311c-d846-4c92-c5fe-26affff368a6"
      },
      "execution_count": 98,
      "outputs": [
        {
          "output_type": "stream",
          "name": "stdout",
          "text": [
            "\n",
            "Congratulations! You've guessed the word correctly: orbit\n"
          ]
        }
      ]
    },
    {
      "cell_type": "markdown",
      "source": [
        " # Text Analysis Tool:\n",
        " Create a Python program that reads a text file and performs various analyses on its content. The program should:\n",
        " * Count the number of words, sentences, and paragraphs.\n",
        " * Calculate the average word length.\n",
        " * Identify the most common words and their frequencies."
      ],
      "metadata": {
        "id": "p-Dxkbggc5e-"
      }
    },
    {
      "cell_type": "code",
      "source": [
        "from collections import Counter\n",
        "import string\n"
      ],
      "metadata": {
        "id": "fw_2Ern-y4gv"
      },
      "execution_count": null,
      "outputs": []
    },
    {
      "cell_type": "code",
      "source": [
        "txt = open(\"/example.txt\",\"r\") #opens the file and reads (r)\n",
        "txtread = txt.read() #reads the file\n",
        "print(txtread)\n"
      ],
      "metadata": {
        "colab": {
          "base_uri": "https://localhost:8080/"
        },
        "id": "B-LQlntYdUCb",
        "outputId": "08f82d32-bc93-4547-f8bc-3b4d8e95fe0d"
      },
      "execution_count": null,
      "outputs": [
        {
          "output_type": "stream",
          "name": "stdout",
          "text": [
            "The names \"John Doe\" for males, \"Jane Doe\" or \"Jane Roe\" for females, or \"Jonnie Doe\" and \"Janie Doe\" for children, or just \"Doe\" non-gender-specifically are used as placeholder names for a party whose true identity is unknown or must be withheld in a legal action, case, or discussion. The names are also used to refer to acorpse or hospital patient whose identity is unknown. This practice is widely used in the United States and Canada, but is rarely used in other English-speaking countries including the United Kingdom itself, from where the use of \"John Doe\" in a legal context originates. The names Joe Bloggs or John Smith are used in the UK instead, as well as in Australia and New Zealand.\n",
            "John Doe is sometimes used to refer to a typical male in other contexts as well, in a similar manner to John Q. Public, known in Great Britain as Joe Public, John Smith or Joe Bloggs. For example, the first name listed on a form is often John Doe, along with a fictional address or other fictional information to provide an example of how to fill in the form. The name is also used frequently in popular culture, for example in the Frank Capra film Meet John Doe. John Doe was also the name of a 2002 American television series.\n",
            "Similarly, a child or baby whose identity is unknown may be referred to as Baby Doe. A notorious murder case in Kansas City, Missouri, referred to the baby victim as Precious Doe. Other unidentified female murder victims are Cali Doe and Princess Doe. Additional persons may be called James Doe, Judy Doe, etc. However, to avoid possible confusion, if two anonymous or unknown parties are cited in a specific case or action, the surnames Doe and Roe may be used simultaneously. If several anonymous parties are referenced, they may simply be labelled John Doe #1, John Doe #2, etc. (the US Operation Delego cited 21 (numbered) \"John Doe\"s) or labelled with other variants of Doe / Roe / Poe / etc. Other early alternatives such as John Stiles and Richard Miles are now rarely used, and Mary Major has been used in some American federal cases.\n"
          ]
        }
      ]
    },
    {
      "cell_type": "code",
      "source": [
        "#counts the number of words\n",
        "countWords= len(txtread.split())\n",
        "print(\"The number of words are:\",countWords)"
      ],
      "metadata": {
        "colab": {
          "base_uri": "https://localhost:8080/"
        },
        "id": "9VGn-725iWoP",
        "outputId": "d070455e-2d42-4b47-8805-5432dad976bf"
      },
      "execution_count": null,
      "outputs": [
        {
          "output_type": "stream",
          "name": "stdout",
          "text": [
            "The number of words are: 368\n"
          ]
        }
      ]
    },
    {
      "cell_type": "code",
      "source": [
        "#counts the number of Sentences\n",
        "countParagraphs= len(txtread.split(\"\\n\"))\n",
        "print(\"The number of paragraphs are:\",countParagraphs)"
      ],
      "metadata": {
        "colab": {
          "base_uri": "https://localhost:8080/"
        },
        "id": "BeFDA82XhQJz",
        "outputId": "e9b13666-571c-4152-89bb-1a4f23c81240"
      },
      "execution_count": null,
      "outputs": [
        {
          "output_type": "stream",
          "name": "stdout",
          "text": [
            "The number of paragraphs are: 3\n"
          ]
        }
      ]
    },
    {
      "cell_type": "code",
      "source": [
        "#counts the number of Sentences\n",
        "countSentences= len(txtread.split(\".\"))\n",
        "print(\"The number of sentences are:\",countSentences-1)"
      ],
      "metadata": {
        "colab": {
          "base_uri": "https://localhost:8080/"
        },
        "id": "LUCCBYsfiiQR",
        "outputId": "68883ffa-5070-4e13-ebfd-4b9caa72f129"
      },
      "execution_count": null,
      "outputs": [
        {
          "output_type": "stream",
          "name": "stdout",
          "text": [
            "The number of sentences are: 17\n"
          ]
        }
      ]
    },
    {
      "cell_type": "code",
      "source": [
        " # Calculate the average word length.\n",
        "split= txtread.split()\n",
        "print(split)"
      ],
      "metadata": {
        "id": "pLOS5Y7-j8R5",
        "colab": {
          "base_uri": "https://localhost:8080/"
        },
        "outputId": "0d13711d-93c0-4b19-f5d9-e3a8fbdcf083"
      },
      "execution_count": 102,
      "outputs": [
        {
          "output_type": "stream",
          "name": "stdout",
          "text": [
            "['The', 'names', '\"John', 'Doe\"', 'for', 'males,', '\"Jane', 'Doe\"', 'or', '\"Jane', 'Roe\"', 'for', 'females,', 'or', '\"Jonnie', 'Doe\"', 'and', '\"Janie', 'Doe\"', 'for', 'children,', 'or', 'just', '\"Doe\"', 'non-gender-specifically', 'are', 'used', 'as', 'placeholder', 'names', 'for', 'a', 'party', 'whose', 'true', 'identity', 'is', 'unknown', 'or', 'must', 'be', 'withheld', 'in', 'a', 'legal', 'action,', 'case,', 'or', 'discussion.', 'The', 'names', 'are', 'also', 'used', 'to', 'refer', 'to', 'acorpse', 'or', 'hospital', 'patient', 'whose', 'identity', 'is', 'unknown.', 'This', 'practice', 'is', 'widely', 'used', 'in', 'the', 'United', 'States', 'and', 'Canada,', 'but', 'is', 'rarely', 'used', 'in', 'other', 'English-speaking', 'countries', 'including', 'the', 'United', 'Kingdom', 'itself,', 'from', 'where', 'the', 'use', 'of', '\"John', 'Doe\"', 'in', 'a', 'legal', 'context', 'originates.', 'The', 'names', 'Joe', 'Bloggs', 'or', 'John', 'Smith', 'are', 'used', 'in', 'the', 'UK', 'instead,', 'as', 'well', 'as', 'in', 'Australia', 'and', 'New', 'Zealand.', 'John', 'Doe', 'is', 'sometimes', 'used', 'to', 'refer', 'to', 'a', 'typical', 'male', 'in', 'other', 'contexts', 'as', 'well,', 'in', 'a', 'similar', 'manner', 'to', 'John', 'Q.', 'Public,', 'known', 'in', 'Great', 'Britain', 'as', 'Joe', 'Public,', 'John', 'Smith', 'or', 'Joe', 'Bloggs.', 'For', 'example,', 'the', 'first', 'name', 'listed', 'on', 'a', 'form', 'is', 'often', 'John', 'Doe,', 'along', 'with', 'a', 'fictional', 'address', 'or', 'other', 'fictional', 'information', 'to', 'provide', 'an', 'example', 'of', 'how', 'to', 'fill', 'in', 'the', 'form.', 'The', 'name', 'is', 'also', 'used', 'frequently', 'in', 'popular', 'culture,', 'for', 'example', 'in', 'the', 'Frank', 'Capra', 'film', 'Meet', 'John', 'Doe.', 'John', 'Doe', 'was', 'also', 'the', 'name', 'of', 'a', '2002', 'American', 'television', 'series.', 'Similarly,', 'a', 'child', 'or', 'baby', 'whose', 'identity', 'is', 'unknown', 'may', 'be', 'referred', 'to', 'as', 'Baby', 'Doe.', 'A', 'notorious', 'murder', 'case', 'in', 'Kansas', 'City,', 'Missouri,', 'referred', 'to', 'the', 'baby', 'victim', 'as', 'Precious', 'Doe.', 'Other', 'unidentified', 'female', 'murder', 'victims', 'are', 'Cali', 'Doe', 'and', 'Princess', 'Doe.', 'Additional', 'persons', 'may', 'be', 'called', 'James', 'Doe,', 'Judy', 'Doe,', 'etc.', 'However,', 'to', 'avoid', 'possible', 'confusion,', 'if', 'two', 'anonymous', 'or', 'unknown', 'parties', 'are', 'cited', 'in', 'a', 'specific', 'case', 'or', 'action,', 'the', 'surnames', 'Doe', 'and', 'Roe', 'may', 'be', 'used', 'simultaneously.', 'If', 'several', 'anonymous', 'parties', 'are', 'referenced,', 'they', 'may', 'simply', 'be', 'labelled', 'John', 'Doe', '#1,', 'John', 'Doe', '#2,', 'etc.', '(the', 'US', 'Operation', 'Delego', 'cited', '21', '(numbered)', '\"John', 'Doe\"s)', 'or', 'labelled', 'with', 'other', 'variants', 'of', 'Doe', '/', 'Roe', '/', 'Poe', '/', 'etc.', 'Other', 'early', 'alternatives', 'such', 'as', 'John', 'Stiles', 'and', 'Richard', 'Miles', 'are', 'now', 'rarely', 'used,', 'and', 'Mary', 'Major', 'has', 'been', 'used', 'in', 'some', 'American', 'federal', 'cases.']\n"
          ]
        }
      ]
    },
    {
      "cell_type": "code",
      "source": [
        "print (len(split)) #equivalente al countwords"
      ],
      "metadata": {
        "colab": {
          "base_uri": "https://localhost:8080/"
        },
        "id": "Yr4ed0kPoKRF",
        "outputId": "d8a0fb31-2c7d-4b5e-e049-910cf47e9bfa"
      },
      "execution_count": null,
      "outputs": [
        {
          "output_type": "stream",
          "name": "stdout",
          "text": [
            "368\n"
          ]
        }
      ]
    },
    {
      "cell_type": "code",
      "source": [
        "# Remove punctuation from each word for accurate word length measurement\n",
        "split_cleaned = [word.strip(string.punctuation) for word in split]\n"
      ],
      "metadata": {
        "id": "lALq63VVzB18"
      },
      "execution_count": null,
      "outputs": []
    },
    {
      "cell_type": "code",
      "source": [
        "# Sum of word lengths\n",
        "sumlength = sum(len(word) for word in split_cleaned)"
      ],
      "metadata": {
        "id": "fCmF_fHbrgN2"
      },
      "execution_count": null,
      "outputs": []
    },
    {
      "cell_type": "code",
      "source": [
        "# Average word length\n",
        "avg_word_length = sumlength / countWords\n",
        "print(f\"The average word length is: {avg_word_length:.2f}\")"
      ],
      "metadata": {
        "colab": {
          "base_uri": "https://localhost:8080/"
        },
        "id": "-zM6oY4WzOx1",
        "outputId": "7a008d18-a596-4db5-c02c-2726f3f59d8b"
      },
      "execution_count": null,
      "outputs": [
        {
          "output_type": "stream",
          "name": "stdout",
          "text": [
            "The average word length is: 4.45\n"
          ]
        }
      ]
    },
    {
      "cell_type": "code",
      "source": [
        "\n",
        "# Identify the most common words and their frequencies\n",
        "# Convert all words to lowercase to avoid duplicates with different capitalization\n",
        "words_lower = [word.lower() for word in split_cleaned]"
      ],
      "metadata": {
        "id": "mfbaYuxHzTzQ"
      },
      "execution_count": 103,
      "outputs": []
    },
    {
      "cell_type": "code",
      "source": [
        "# Count the word frequencies (NEW CODE)\n",
        "word_frequencies = Counter(words_lower)"
      ],
      "metadata": {
        "id": "ADyVWbbbzbP2"
      },
      "execution_count": 104,
      "outputs": []
    },
    {
      "cell_type": "code",
      "source": [
        "# Display the 10 most common words (NEW CODE)\n",
        "most_common_words = word_frequencies.most_common(10)\n",
        "print(\"The most common words are:\")\n",
        "for word, freq in most_common_words:\n",
        "    print(f\"{word}: {freq}\")"
      ],
      "metadata": {
        "colab": {
          "base_uri": "https://localhost:8080/"
        },
        "id": "e6f5ZD9tzdRF",
        "outputId": "65255095-0a94-4631-8aef-0bcdec5229f3"
      },
      "execution_count": 105,
      "outputs": [
        {
          "output_type": "stream",
          "name": "stdout",
          "text": [
            "The most common words are:\n",
            "doe: 20\n",
            "the: 15\n",
            "in: 15\n",
            "john: 13\n",
            "or: 13\n",
            "a: 11\n",
            "used: 10\n",
            "to: 10\n",
            "as: 8\n",
            "is: 8\n"
          ]
        }
      ]
    },
    {
      "cell_type": "markdown",
      "source": [
        "#NUMBER GUESSING GAME\n",
        "INSTRUCTIONS:\n",
        "* Generates a random number between 1 and 100\n",
        "* Asks the user to guess the number\n",
        "* Provide hints to the user\n",
        "* Keep asking for a new guess until the user guesses correctly."
      ],
      "metadata": {
        "id": "V8uInGxw0g19"
      }
    },
    {
      "cell_type": "code",
      "source": [
        "\n",
        "import random #para generar números aleatorios"
      ],
      "metadata": {
        "id": "mmF3YGON7Dvf"
      },
      "execution_count": 99,
      "outputs": []
    },
    {
      "cell_type": "code",
      "source": [
        "\n",
        "randomNumber = random.randint(1,100)\n",
        "\n",
        "print(\"Welcome  to the Number Guessing Game\")\n",
        "\n",
        "# print(randomNumber) #prints randomNumber for testing the loop and conditionals"
      ],
      "metadata": {
        "colab": {
          "base_uri": "https://localhost:8080/"
        },
        "id": "JIsi7Rlb7Mn8",
        "outputId": "1d397413-992e-4795-9578-b267f4ea144b"
      },
      "execution_count": 100,
      "outputs": [
        {
          "output_type": "stream",
          "name": "stdout",
          "text": [
            "Welcome  to the Number Guessing Game\n"
          ]
        }
      ]
    },
    {
      "cell_type": "code",
      "source": [
        "\n",
        "\n",
        "#loop & conditionals for guessing\n",
        "\n",
        "inputNumber= int(input(\"Please enter a number between 1-100:\"))\n",
        "\n",
        "while(randomNumber!=inputNumber):\n",
        "\n",
        "\n",
        "        if (randomNumber> inputNumber):\n",
        "\n",
        "\n",
        "                print(\"The number is less than the target number\")\n",
        "\n",
        "\n",
        "                inputNumber= int(input(\"Please enter a number between 1-100:\")) #updates the input number\n",
        "\n",
        "\n",
        "        elif(randomNumber<inputNumber):\n",
        "\n",
        "\n",
        "                print(\"The number is greater than the target number\")\n",
        "\n",
        "\n",
        "                inputNumber= int(input(\"Please enter a number between 1-100:\"))\n",
        "\n",
        "\n",
        "print(\"Congratulations, you've won the game\") #out of the while"
      ],
      "metadata": {
        "colab": {
          "base_uri": "https://localhost:8080/"
        },
        "id": "kXj_pVBA6Eqd",
        "outputId": "7bdc548b-8a66-4e54-8aa2-c1595806669d"
      },
      "execution_count": 101,
      "outputs": [
        {
          "output_type": "stream",
          "name": "stdout",
          "text": [
            "Please enter a number between 1-100:5\n",
            "The number is less than the target number\n",
            "Please enter a number between 1-100:60\n",
            "The number is less than the target number\n",
            "Please enter a number between 1-100:80\n",
            "The number is less than the target number\n",
            "Please enter a number between 1-100:90\n",
            "The number is greater than the target number\n",
            "Please enter a number between 1-100:85\n",
            "The number is less than the target number\n",
            "Please enter a number between 1-100:87\n",
            "The number is less than the target number\n",
            "Please enter a number between 1-100:88\n",
            "The number is less than the target number\n",
            "Please enter a number between 1-100:89\n",
            "Congratulations, you've won the game\n"
          ]
        }
      ]
    }
  ]
}